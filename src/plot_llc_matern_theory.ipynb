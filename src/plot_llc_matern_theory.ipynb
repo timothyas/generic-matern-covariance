{
 "cells": [
  {
   "cell_type": "markdown",
   "metadata": {},
   "source": [
    "# Plot matern correlation lengths"
   ]
  },
  {
   "cell_type": "code",
   "execution_count": 1,
   "metadata": {},
   "outputs": [],
   "source": [
    "import os\n",
    "import numpy as np\n",
    "import xarray as xr\n",
    "import matplotlib.pyplot as plt\n",
    "\n",
    "import cmocean\n",
    "from xmitgcm import open_mdsdataset,utils\n",
    "from xgcm import Grid\n",
    "import ecco_v4_py\n",
    "\n",
    "import pych.ecco as pe\n",
    "\n",
    "from matern import MaternField"
   ]
  },
  {
   "cell_type": "code",
   "execution_count": 2,
   "metadata": {},
   "outputs": [
    {
     "name": "stderr",
     "output_type": "stream",
     "text": [
      "/scratch2/tsmith/miniconda3/envs/phd/lib/python3.9/site-packages/dask_jobqueue/core.py:20: FutureWarning: tmpfile is deprecated and will be removed in a future release. Please use dask.utils.tmpfile instead.\n",
      "  from distributed.utils import tmpfile\n"
     ]
    }
   ],
   "source": [
    "from dask_jobqueue import SLURMCluster\n",
    "from dask.distributed import Client"
   ]
  },
  {
   "cell_type": "code",
   "execution_count": 3,
   "metadata": {},
   "outputs": [
    {
     "data": {
      "text/html": [
       "<div>\n",
       "    <div style=\"width: 24px; height: 24px; background-color: #e1e1e1; border: 3px solid #9D9D9D; border-radius: 5px; position: absolute;\"> </div>\n",
       "    <div style=\"margin-left: 48px;\">\n",
       "        <h3 style=\"margin-bottom: 0px;\">Client</h3>\n",
       "        <p style=\"color: #9D9D9D; margin-bottom: 0px;\">Client-ade5d5ba-ac92-11ec-aea2-7cd30abbbe70</p>\n",
       "        <table style=\"width: 100%; text-align: left;\">\n",
       "\n",
       "        <tr>\n",
       "        \n",
       "            <td style=\"text-align: left;\"><strong>Connection method:</strong> Cluster object</td>\n",
       "            <td style=\"text-align: left;\"><strong>Cluster type:</strong> dask_jobqueue.SLURMCluster</td>\n",
       "        \n",
       "        </tr>\n",
       "\n",
       "        \n",
       "            <tr>\n",
       "                <td style=\"text-align: left;\">\n",
       "                    <strong>Dashboard: </strong> <a href=\"http://10.1.1.4:8787/status\" target=\"_blank\">http://10.1.1.4:8787/status</a>\n",
       "                </td>\n",
       "                <td style=\"text-align: left;\"></td>\n",
       "            </tr>\n",
       "        \n",
       "\n",
       "        </table>\n",
       "\n",
       "        \n",
       "            <details>\n",
       "            <summary style=\"margin-bottom: 20px;\"><h3 style=\"display: inline;\">Cluster Info</h3></summary>\n",
       "            <div class=\"jp-RenderedHTMLCommon jp-RenderedHTML jp-mod-trusted jp-OutputArea-output\">\n",
       "    <div style=\"width: 24px; height: 24px; background-color: #e1e1e1; border: 3px solid #9D9D9D; border-radius: 5px; position: absolute;\">\n",
       "    </div>\n",
       "    <div style=\"margin-left: 48px;\">\n",
       "        <h3 style=\"margin-bottom: 0px; margin-top: 0px;\">SLURMCluster</h3>\n",
       "        <p style=\"color: #9D9D9D; margin-bottom: 0px;\">f09e632e</p>\n",
       "        <table style=\"width: 100%; text-align: left;\">\n",
       "            <tr>\n",
       "                <td style=\"text-align: left;\">\n",
       "                    <strong>Dashboard:</strong> <a href=\"http://10.1.1.4:8787/status\" target=\"_blank\">http://10.1.1.4:8787/status</a>\n",
       "                </td>\n",
       "                <td style=\"text-align: left;\">\n",
       "                    <strong>Workers:</strong> 0\n",
       "                </td>\n",
       "            </tr>\n",
       "            <tr>\n",
       "                <td style=\"text-align: left;\">\n",
       "                    <strong>Total threads:</strong> 0\n",
       "                </td>\n",
       "                <td style=\"text-align: left;\">\n",
       "                    <strong>Total memory:</strong> 0 B\n",
       "                </td>\n",
       "            </tr>\n",
       "            \n",
       "        </table>\n",
       "\n",
       "        <details>\n",
       "            <summary style=\"margin-bottom: 20px;\">\n",
       "                <h3 style=\"display: inline;\">Scheduler Info</h3>\n",
       "            </summary>\n",
       "\n",
       "            <div style=\"\">\n",
       "    <div>\n",
       "        <div style=\"width: 24px; height: 24px; background-color: #FFF7E5; border: 3px solid #FF6132; border-radius: 5px; position: absolute;\"> </div>\n",
       "        <div style=\"margin-left: 48px;\">\n",
       "            <h3 style=\"margin-bottom: 0px;\">Scheduler</h3>\n",
       "            <p style=\"color: #9D9D9D; margin-bottom: 0px;\">Scheduler-06ae0fbf-920c-402a-8d76-8ff467950651</p>\n",
       "            <table style=\"width: 100%; text-align: left;\">\n",
       "                <tr>\n",
       "                    <td style=\"text-align: left;\">\n",
       "                        <strong>Comm:</strong> tcp://10.1.1.4:46425\n",
       "                    </td>\n",
       "                    <td style=\"text-align: left;\">\n",
       "                        <strong>Workers:</strong> 0\n",
       "                    </td>\n",
       "                </tr>\n",
       "                <tr>\n",
       "                    <td style=\"text-align: left;\">\n",
       "                        <strong>Dashboard:</strong> <a href=\"http://10.1.1.4:8787/status\" target=\"_blank\">http://10.1.1.4:8787/status</a>\n",
       "                    </td>\n",
       "                    <td style=\"text-align: left;\">\n",
       "                        <strong>Total threads:</strong> 0\n",
       "                    </td>\n",
       "                </tr>\n",
       "                <tr>\n",
       "                    <td style=\"text-align: left;\">\n",
       "                        <strong>Started:</strong> Just now\n",
       "                    </td>\n",
       "                    <td style=\"text-align: left;\">\n",
       "                        <strong>Total memory:</strong> 0 B\n",
       "                    </td>\n",
       "                </tr>\n",
       "            </table>\n",
       "        </div>\n",
       "    </div>\n",
       "\n",
       "    <details style=\"margin-left: 48px;\">\n",
       "        <summary style=\"margin-bottom: 20px;\">\n",
       "            <h3 style=\"display: inline;\">Workers</h3>\n",
       "        </summary>\n",
       "\n",
       "        \n",
       "\n",
       "    </details>\n",
       "</div>\n",
       "\n",
       "        </details>\n",
       "    </div>\n",
       "</div>\n",
       "            </details>\n",
       "        \n",
       "\n",
       "    </div>\n",
       "</div>"
      ],
      "text/plain": [
       "<Client: 'tcp://10.1.1.4:46425' processes=0 threads=0, memory=0 B>"
      ]
     },
     "execution_count": 3,
     "metadata": {},
     "output_type": "execute_result"
    }
   ],
   "source": [
    "cluster = SLURMCluster()\n",
    "cluster.adapt(minimum=0, maximum=10)\n",
    "client = Client(cluster)\n",
    "client"
   ]
  },
  {
   "cell_type": "code",
   "execution_count": 4,
   "metadata": {},
   "outputs": [],
   "source": [
    "fig_dir = '../figures'\n",
    "if not os.path.isdir(fig_dir):\n",
    "    os.makedirs(fig_dir)"
   ]
  },
  {
   "cell_type": "code",
   "execution_count": 5,
   "metadata": {},
   "outputs": [],
   "source": [
    "plt.style.use('thesis')"
   ]
  },
  {
   "cell_type": "code",
   "execution_count": 6,
   "metadata": {},
   "outputs": [],
   "source": [
    "xi = 1"
   ]
  },
  {
   "cell_type": "code",
   "execution_count": 10,
   "metadata": {},
   "outputs": [],
   "source": [
    "def readme(n_range, drop_coords=True):\n",
    "    ds = xr.open_zarr(f'/scratch2/tsmith/generic-matern-covariance/sampling/llc90/sample-3D-C/zstores/matern.{n_range:02d}dx.{xi:02}xi.zarr',\n",
    "                      chunks={'k':50})\n",
    "    ds = ds.isel(sample=slice(100))\n",
    "    \n",
    "    with xr.set_options(keep_attrs=True):\n",
    "        \n",
    "        ds['variance'] = 1/ds['smooth3Dnorm001']**2\n",
    "        ds['sigma'] = 1/ds['smooth3Dnorm001']\n",
    "        ds['ginv_norm'] = (ds['smooth3Dfld001'] * ds['smooth3Dnorm001'] ).where(ds.maskC)\n",
    "        \n",
    "        ds['variance'].attrs = {'label':r'$\\hat{\\sigma}^2$'}\n",
    "        ds['sigma'].attrs = {'label':r'$\\hat{\\sigma}$'}\n",
    "        ds['smooth3Dmean001'] = ds['smooth3Dfld001'].mean('sample')\n",
    "    \n",
    "    if drop_coords:\n",
    "        ds = ds.reset_coords(drop=True)\n",
    "    return ds"
   ]
  },
  {
   "cell_type": "code",
   "execution_count": 11,
   "metadata": {},
   "outputs": [],
   "source": [
    "all_ranges = [5,10,15,20]\n",
    "dsd = {n_range: readme(n_range) for n_range in all_ranges}\n",
    "\n",
    "# Get a single grid dataset and drop the others\n",
    "grid = readme(5, drop_coords=False).coords.to_dataset()"
   ]
  },
  {
   "cell_type": "code",
   "execution_count": 13,
   "metadata": {},
   "outputs": [],
   "source": [
    "# lets get this party started\n",
    "\n",
    "for xds in dsd.values():\n",
    "    for key in ['ginv_norm', 'smooth3Dmean001']:\n",
    "        xds[key] = xds[key].persist()\n",
    "grid['maskC'] = grid['maskC'].persist()"
   ]
  },
  {
   "cell_type": "markdown",
   "metadata": {},
   "source": [
    "### Correlation lengths"
   ]
  },
  {
   "cell_type": "code",
   "execution_count": 14,
   "metadata": {},
   "outputs": [],
   "source": [
    "import dask.array as darray"
   ]
  },
  {
   "cell_type": "code",
   "execution_count": 15,
   "metadata": {},
   "outputs": [],
   "source": [
    "def calc_correlation_field(xda, mask, sample_mean,\n",
    "                           dimlist=('k',),\n",
    "                           n_shift=15):\n",
    "    xds = xr.Dataset()\n",
    "    shifty = np.arange(-n_shift,n_shift+1)\n",
    "    shifty = xr.DataArray(shifty,coords={'shifty':shifty},dims=('shifty',))\n",
    "    xds['shifty'] = shifty\n",
    "    \n",
    "    # Do this part once\n",
    "    x_deviation = (xda.data - sample_mean.data[None]).persist()\n",
    "    x_ssr_inv = (1/np.sqrt( darray.nansum(x_deviation**2, axis=0) )).persist()\n",
    "    \n",
    "    dim=dimlist[0]\n",
    "    assert dim != 0\n",
    "    \n",
    "    axis = xda.dims.index(dim)\n",
    "    \n",
    "    avg_corr = []\n",
    "    std_corr = []\n",
    "    for s in shifty.values:\n",
    "        avg,std = _calc_shifted(x_deviation, x_ssr_inv, int(s), axis)\n",
    "        avg_corr.append(avg)\n",
    "        std_corr.append(std)\n",
    "        \n",
    "    # Package it up\n",
    "    coords = {'shifty':shifty, dim:xda[dim]}\n",
    "    dims = tuple(coords.keys())\n",
    "    avg_corr = xr.DataArray(darray.stack(avg_corr, axis=0).persist(),\n",
    "                            coords=coords,\n",
    "                            dims=dims)\n",
    "                            \n",
    "    std_corr = xr.DataArray(darray.stack(std_corr, axis=0).persist(),\n",
    "                            coords=coords,\n",
    "                            dims=dims)\n",
    "    return avg_corr, std_corr\n",
    "\n",
    "def _calc_shifted(xdev, xssrinv, n_shift, axis):\n",
    "    \n",
    "    y_deviation = _shift(xdev, axis=axis, n_shift=n_shift)\n",
    "    numerator = darray.nansum(xdev*y_deviation, axis=0)\n",
    "    y_ssr = np.sqrt( darray.nansum(y_deviation**2, axis=0))\n",
    "    full_field = numerator / y_ssr * xssrinv\n",
    "    \n",
    "    sum_dims = tuple(x for x in range(xdev.ndim-1) if x != axis-1)\n",
    "    avg = darray.nanmean(full_field, axis=sum_dims)\n",
    "    std = darray.nanstd(full_field, axis=sum_dims)\n",
    "    return avg, std\n",
    "\n",
    "def _shift(array, axis, n_shift, fill_value=np.nan):\n",
    "    result = darray.roll(array, n_shift, axis=axis)\n",
    "    result = result.rechunk({axis:None})\n",
    "    if n_shift>=0:\n",
    "        result[:n_shift] = fill_value\n",
    "    else:\n",
    "        result[n_shift:] = fill_value\n",
    "    return result\n",
    "\n",
    "def _print(name, array):\n",
    "    print(f\"{name}\")\n",
    "    print(f\"\\t{array.shape}\")\n",
    "    print(f\"\\t{array.chunksize}\")\n",
    "    print()\n",
    "    return"
   ]
  },
  {
   "cell_type": "code",
   "execution_count": null,
   "metadata": {},
   "outputs": [],
   "source": []
  },
  {
   "cell_type": "code",
   "execution_count": 16,
   "metadata": {
    "scrolled": true
   },
   "outputs": [],
   "source": [
    "# Compute approximate correlation\n",
    "\n",
    "for n_range, xds in dsd.items():\n",
    "    avg, std = calc_correlation_field(xds['ginv_norm'],\n",
    "                                      mask=grid['maskC'],\n",
    "                                      sample_mean=xds['smooth3Dmean001'],\n",
    "                                      dimlist=('k',),\n",
    "                                      n_shift=2*xi*n_range)\n",
    "    \n",
    "    xds['avg_corr_k'] = avg\n",
    "    xds['std_corr_k'] = std\n",
    "\n",
    "    # Compute prediction\n",
    "    mf = MaternField(grid['maskC'], n_range=n_range, horizontal_factor=xi)\n",
    "    xds['delta_khat'] = np.abs(xds['shifty'])\n",
    "    xds['ideal_corr_k'] = mf.ideal_correlation(distance=xds['delta_khat'])"
   ]
  },
  {
   "cell_type": "code",
   "execution_count": 29,
   "metadata": {},
   "outputs": [
    {
     "data": {
      "image/png": "[encoded data removed]",
      "text/plain": [
       "<Figure size 576x432 with 1 Axes>"
      ]
     },
     "metadata": {},
     "output_type": "display_data"
    }
   ],
   "source": [
    "kk = 9\n",
    "dim='k'\n",
    "\n",
    "ncols = 1\n",
    "nrows = 1\n",
    "\n",
    "fig,ax = plt.subplots(nrows,ncols,figsize=(8,6*nrows),\n",
    "                       sharey=True)\n",
    "\n",
    "for n_range, xds in dsd.items():\n",
    "    \n",
    "    theory_label = r'$r\\,(\\hat{\\rho},||\\hat{x}_1-\\hat{x}_2||)$' if n_range == 5 else None\n",
    "    exp_label=r'$\\hat{\\rho}$ = %d' % n_range\n",
    "    \n",
    "    for condition in [xds['shifty']<=0]:#, xds['shifty']<=0]:\n",
    "        \n",
    "        x = xds[f'delta_{dim}hat'].where(condition)\n",
    "        #condition = condition & (x<25)\n",
    "        theory = xds[f'ideal_corr_{dim}'].where(condition)\n",
    "        yavg = xds[f\"avg_corr_{dim}\"].sel(k=kk).where(condition)\n",
    "        ystd = xds[f\"std_corr_{dim}\"].sel(k=kk).where(condition)\n",
    "        \n",
    "        ax.plot(x, theory, label=theory_label, color='black')\n",
    "        #ax.plot(x, yavg, marker='o')\n",
    "        ax.fill_between(x,yavg-ystd, yavg+ystd,\n",
    "                        alpha=.3,\n",
    "                        label=exp_label)\n",
    "\n",
    "ax.set(xlabel=r'$\\delta\\hat{z}$',ylabel='',title='')\n",
    "ax.set_ylabel('Correlation')\n",
    "\n",
    "ax.spines['right'].set_visible(False)\n",
    "ax.spines['top'].set_visible(False)\n",
    "        \n",
    "#fig.subplots_adjust(wspace=.05)\n",
    "fig.legend(ncol=5,\n",
    "           loc='center',\n",
    "           bbox_to_anchor=(.5,-0.075),\n",
    "           frameon=False)\n",
    "fig.savefig(f'{fig_dir}/llc90_nondimensional_correlation_k.pdf',bbox_inches='tight')"
   ]
  },
  {
   "cell_type": "markdown",
   "metadata": {},
   "source": [
    "### Plotting note\n",
    "\n",
    "Need to generalize the cutoff based on `k`"
   ]
  },
  {
   "cell_type": "markdown",
   "metadata": {},
   "source": [
    "### A note about the inaccuracy/locality of Jacobians... \n",
    "Here I'm truly considering the distance to be the number of neighboring grid cells.\n",
    "I went through the whole process of using the Jacobian to approximate distances in ideal space, but this is\n",
    "not really accurate.\n",
    "Really we want the comparison to be in \"grid cell space\", and that's what we get.\n",
    "I would consider grid cell space to be:\n",
    "$$\\varphi(\\mathbf{x}_1) - \\varphi(\\mathbf{x}_2)$$\n",
    "and\n",
    "$$\\Phi|_{\\mathbf{x}_{1}} (\\mathbf{x}_1 - \\mathbf{x}_2)$$\n",
    "is not a good approximation of this for distances that matter.\n",
    "Even 3-5 grid cells away it starts to be a pretty bad approximation"
   ]
  },
  {
   "cell_type": "code",
   "execution_count": null,
   "metadata": {},
   "outputs": [],
   "source": []
  },
  {
   "cell_type": "markdown",
   "metadata": {},
   "source": [
    "## Some initial plots of samples"
   ]
  },
  {
   "cell_type": "code",
   "execution_count": null,
   "metadata": {},
   "outputs": [],
   "source": [
    "dsd[5].smooth3Dfld001.where(grid.maskC).isel(face=4,sample=0,j=50).plot(yincrease=False)"
   ]
  },
  {
   "cell_type": "code",
   "execution_count": null,
   "metadata": {},
   "outputs": [],
   "source": []
  }
 ],
 "metadata": {
  "kernelspec": {
   "display_name": "phd",
   "language": "python",
   "name": "phd"
  },
  "language_info": {
   "codemirror_mode": {
    "name": "ipython",
    "version": 3
   },
   "file_extension": ".py",
   "mimetype": "text/x-python",
   "name": "python",
   "nbconvert_exporter": "python",
   "pygments_lexer": "ipython3",
   "version": "3.9.10"
  }
 },
 "nbformat": 4,
 "nbformat_minor": 4
}
