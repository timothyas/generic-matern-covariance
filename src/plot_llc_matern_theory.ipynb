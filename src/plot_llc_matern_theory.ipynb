{
 "cells": [
  {
   "cell_type": "markdown",
   "metadata": {},
   "source": [
    "# Plot matern correlation lengths"
   ]
  },
  {
   "cell_type": "code",
   "execution_count": 1,
   "metadata": {},
   "outputs": [],
   "source": [
    "import os\n",
    "import numpy as np\n",
    "import xarray as xr\n",
    "import matplotlib.pyplot as plt\n",
    "\n",
    "import cmocean\n",
    "from xmitgcm import open_mdsdataset,utils\n",
    "from xgcm import Grid\n",
    "import ecco_v4_py\n",
    "\n",
    "import pych.ecco as pe\n",
    "\n",
    "from matern import MaternField\n",
    "from llcutils import get_pacific"
   ]
  },
  {
   "cell_type": "code",
   "execution_count": 2,
   "metadata": {},
   "outputs": [
    {
     "name": "stderr",
     "output_type": "stream",
     "text": [
      "/scratch2/tsmith/miniconda3/envs/phd/lib/python3.9/site-packages/dask_jobqueue/core.py:20: FutureWarning: tmpfile is deprecated and will be removed in a future release. Please use dask.utils.tmpfile instead.\n",
      "  from distributed.utils import tmpfile\n"
     ]
    }
   ],
   "source": [
    "from dask_jobqueue import SLURMCluster\n",
    "from dask.distributed import Client"
   ]
  },
  {
   "cell_type": "code",
   "execution_count": 3,
   "metadata": {},
   "outputs": [
    {
     "data": {
      "text/html": [
       "<div>\n",
       "    <div style=\"width: 24px; height: 24px; background-color: #e1e1e1; border: 3px solid #9D9D9D; border-radius: 5px; position: absolute;\"> </div>\n",
       "    <div style=\"margin-left: 48px;\">\n",
       "        <h3 style=\"margin-bottom: 0px;\">Client</h3>\n",
       "        <p style=\"color: #9D9D9D; margin-bottom: 0px;\">Client-4dc72425-ec3a-11ec-b5b7-7cd30abbc0b6</p>\n",
       "        <table style=\"width: 100%; text-align: left;\">\n",
       "\n",
       "        <tr>\n",
       "        \n",
       "            <td style=\"text-align: left;\"><strong>Connection method:</strong> Cluster object</td>\n",
       "            <td style=\"text-align: left;\"><strong>Cluster type:</strong> dask_jobqueue.SLURMCluster</td>\n",
       "        \n",
       "        </tr>\n",
       "\n",
       "        \n",
       "            <tr>\n",
       "                <td style=\"text-align: left;\">\n",
       "                    <strong>Dashboard: </strong> <a href=\"http://10.1.1.9:8787/status\" target=\"_blank\">http://10.1.1.9:8787/status</a>\n",
       "                </td>\n",
       "                <td style=\"text-align: left;\"></td>\n",
       "            </tr>\n",
       "        \n",
       "\n",
       "        </table>\n",
       "\n",
       "        \n",
       "            <details>\n",
       "            <summary style=\"margin-bottom: 20px;\"><h3 style=\"display: inline;\">Cluster Info</h3></summary>\n",
       "            <div class=\"jp-RenderedHTMLCommon jp-RenderedHTML jp-mod-trusted jp-OutputArea-output\">\n",
       "    <div style=\"width: 24px; height: 24px; background-color: #e1e1e1; border: 3px solid #9D9D9D; border-radius: 5px; position: absolute;\">\n",
       "    </div>\n",
       "    <div style=\"margin-left: 48px;\">\n",
       "        <h3 style=\"margin-bottom: 0px; margin-top: 0px;\">SLURMCluster</h3>\n",
       "        <p style=\"color: #9D9D9D; margin-bottom: 0px;\">a7b4655d</p>\n",
       "        <table style=\"width: 100%; text-align: left;\">\n",
       "            <tr>\n",
       "                <td style=\"text-align: left;\">\n",
       "                    <strong>Dashboard:</strong> <a href=\"http://10.1.1.9:8787/status\" target=\"_blank\">http://10.1.1.9:8787/status</a>\n",
       "                </td>\n",
       "                <td style=\"text-align: left;\">\n",
       "                    <strong>Workers:</strong> 0\n",
       "                </td>\n",
       "            </tr>\n",
       "            <tr>\n",
       "                <td style=\"text-align: left;\">\n",
       "                    <strong>Total threads:</strong> 0\n",
       "                </td>\n",
       "                <td style=\"text-align: left;\">\n",
       "                    <strong>Total memory:</strong> 0 B\n",
       "                </td>\n",
       "            </tr>\n",
       "            \n",
       "        </table>\n",
       "\n",
       "        <details>\n",
       "            <summary style=\"margin-bottom: 20px;\">\n",
       "                <h3 style=\"display: inline;\">Scheduler Info</h3>\n",
       "            </summary>\n",
       "\n",
       "            <div style=\"\">\n",
       "    <div>\n",
       "        <div style=\"width: 24px; height: 24px; background-color: #FFF7E5; border: 3px solid #FF6132; border-radius: 5px; position: absolute;\"> </div>\n",
       "        <div style=\"margin-left: 48px;\">\n",
       "            <h3 style=\"margin-bottom: 0px;\">Scheduler</h3>\n",
       "            <p style=\"color: #9D9D9D; margin-bottom: 0px;\">Scheduler-653b3674-5723-4249-aef8-9cb105b90fc5</p>\n",
       "            <table style=\"width: 100%; text-align: left;\">\n",
       "                <tr>\n",
       "                    <td style=\"text-align: left;\">\n",
       "                        <strong>Comm:</strong> tcp://10.1.1.9:33738\n",
       "                    </td>\n",
       "                    <td style=\"text-align: left;\">\n",
       "                        <strong>Workers:</strong> 0\n",
       "                    </td>\n",
       "                </tr>\n",
       "                <tr>\n",
       "                    <td style=\"text-align: left;\">\n",
       "                        <strong>Dashboard:</strong> <a href=\"http://10.1.1.9:8787/status\" target=\"_blank\">http://10.1.1.9:8787/status</a>\n",
       "                    </td>\n",
       "                    <td style=\"text-align: left;\">\n",
       "                        <strong>Total threads:</strong> 0\n",
       "                    </td>\n",
       "                </tr>\n",
       "                <tr>\n",
       "                    <td style=\"text-align: left;\">\n",
       "                        <strong>Started:</strong> Just now\n",
       "                    </td>\n",
       "                    <td style=\"text-align: left;\">\n",
       "                        <strong>Total memory:</strong> 0 B\n",
       "                    </td>\n",
       "                </tr>\n",
       "            </table>\n",
       "        </div>\n",
       "    </div>\n",
       "\n",
       "    <details style=\"margin-left: 48px;\">\n",
       "        <summary style=\"margin-bottom: 20px;\">\n",
       "            <h3 style=\"display: inline;\">Workers</h3>\n",
       "        </summary>\n",
       "\n",
       "        \n",
       "\n",
       "    </details>\n",
       "</div>\n",
       "\n",
       "        </details>\n",
       "    </div>\n",
       "</div>\n",
       "            </details>\n",
       "        \n",
       "\n",
       "    </div>\n",
       "</div>"
      ],
      "text/plain": [
       "<Client: 'tcp://10.1.1.9:33738' processes=0 threads=0, memory=0 B>"
      ]
     },
     "execution_count": 3,
     "metadata": {},
     "output_type": "execute_result"
    }
   ],
   "source": [
    "cluster = SLURMCluster()\n",
    "cluster.adapt(minimum=0, maximum=10)\n",
    "client = Client(cluster)\n",
    "client"
   ]
  },
  {
   "cell_type": "code",
   "execution_count": 4,
   "metadata": {},
   "outputs": [],
   "source": [
    "fig_dir = '../figures'\n",
    "if not os.path.isdir(fig_dir):\n",
    "    os.makedirs(fig_dir)"
   ]
  },
  {
   "cell_type": "code",
   "execution_count": 5,
   "metadata": {},
   "outputs": [],
   "source": [
    "plt.style.use('./correlation.mplstyle')"
   ]
  },
  {
   "cell_type": "code",
   "execution_count": 6,
   "metadata": {},
   "outputs": [],
   "source": [
    "xi = 1"
   ]
  },
  {
   "cell_type": "code",
   "execution_count": 53,
   "metadata": {},
   "outputs": [],
   "source": [
    "def readme(n_range, drop_coords=True):\n",
    "    ds = xr.open_zarr(f'/scratch2/tsmith/generic-matern-covariance/sampling/llc90/sample-3D-C/zstores/matern.{n_range:02d}dx.{xi:02}xi.zarr',\n",
    "                      chunks={'k':50, 'sample':100})\n",
    "    #ds = ds.isel(sample=slice(100))\n",
    "    if drop_coords:\n",
    "        ds = ds.reset_coords(drop=True)\n",
    "    ds = get_pacific(ds)\n",
    "    return ds"
   ]
  },
  {
   "cell_type": "code",
   "execution_count": 54,
   "metadata": {},
   "outputs": [],
   "source": [
    "def preprocess(xds, grid):\n",
    "    \n",
    "    with xr.set_options(keep_attrs=True):\n",
    "        \n",
    "        xds['variance'] = 1/xds['smooth3Dnorm001']**2\n",
    "        xds['sigma'] = 1/xds['smooth3Dnorm001']\n",
    "        xds['smooth3Dnorm001'] = xds['smooth3Dnorm001'].where(grid['maskC'])\n",
    "        #xds['ginv_norm'] = xds['smooth3Dfld001'] * xds['smooth3Dnorm001']\n",
    "        tmp = xds['smooth3Dfld001'].data * xds['smooth3Dnorm001'].data[None]\n",
    "        xdalike = xds['smooth3Dfld001']\n",
    "        xds['ginv_norm'] = xr.DataArray(tmp, coords=xdalike.coords, dims=xdalike.dims)\n",
    "        \n",
    "        xds['variance'].attrs = {'label':r'$\\hat{\\sigma}^2$'}\n",
    "        xds['sigma'].attrs = {'label':r'$\\hat{\\sigma}$'}\n",
    "        #xds['smooth3Dmean001'] = xds['smooth3Dfld001'].mean('sample')\n",
    "    return xds"
   ]
  },
  {
   "cell_type": "code",
   "execution_count": 55,
   "metadata": {},
   "outputs": [],
   "source": [
    "all_ranges = [5, 10, 15, 20]\n",
    "dsd = {n_range: readme(n_range) for n_range in all_ranges}\n",
    "\n",
    "# Get a single grid dataset and drop the others\n",
    "grid = readme(5, drop_coords=False).coords.to_dataset()\n",
    "grid = grid.persist()"
   ]
  },
  {
   "cell_type": "code",
   "execution_count": 56,
   "metadata": {},
   "outputs": [],
   "source": [
    "for _, ds in dsd.items():\n",
    "    ds = preprocess(ds, grid)"
   ]
  },
  {
   "cell_type": "code",
   "execution_count": 57,
   "metadata": {},
   "outputs": [],
   "source": [
    "grid['maskC'] = grid['maskC'].persist()\n",
    "for xds in dsd.values():\n",
    "    for key in ['smooth3Dnorm001','smooth3Dmean001','ginv_norm']:\n",
    "        xds[key] = xds[key].persist()"
   ]
  },
  {
   "cell_type": "code",
   "execution_count": null,
   "metadata": {},
   "outputs": [],
   "source": []
  },
  {
   "cell_type": "markdown",
   "metadata": {},
   "source": [
    "### Correlation lengths"
   ]
  },
  {
   "cell_type": "code",
   "execution_count": 58,
   "metadata": {},
   "outputs": [],
   "source": [
    "def calc_correlation_field(xda, mask, sample_mean,\n",
    "                           dimlist=('k',),\n",
    "                           n_shift=15, \n",
    "                           selection=None):\n",
    "    xds = xr.Dataset()\n",
    "    \n",
    "    # Do this part once\n",
    "    x_deviation = (xda - sample_mean).persist()\n",
    "    x_ssr_inv = (1/np.sqrt( (x_deviation.sel(selection)**2).sum('sample') )).persist()\n",
    "    \n",
    "    shifty = np.arange(-n_shift,n_shift+1)\n",
    "    xds['shifty'] = xr.DataArray(shifty, coords={'shifty':shifty}, dims=('shifty',))\n",
    "    for dim in dimlist:\n",
    "        cname = f'corr_{dim}'\n",
    "        \n",
    "        avg_corr = []\n",
    "        std_corr = []\n",
    "        q_corr = []\n",
    "        for s in shifty:\n",
    "            avg, std = _xcalc_shifted(x_deviation, x_ssr_inv, int(s), dim, selection)\n",
    "            avg_corr.append(avg)\n",
    "            std_corr.append(std)\n",
    "            #q_corr = _xcalc_shifted(x_deviation, x_ssr_inv, int(s), dim, selection)\n",
    "        xds[cname+'_avg'] = xr.concat(avg_corr, dim='shifty')\n",
    "        xds[cname+'_std'] = xr.concat(std_corr, dim='shifty')\n",
    "        #xds[cname] = xr.concat()\n",
    "        \n",
    "    return xds.persist()\n",
    "\n",
    "def _xcalc_shifted(xdev, xssrinv, n_shift, dim, selbox):\n",
    "    \n",
    "    y_deviation = xdev.shift({dim:n_shift}).sel(selbox)\n",
    "    numerator = (xdev.sel(selbox)*y_deviation).sum('sample')\n",
    "    y_ssr = np.sqrt( (y_deviation**2).sum('sample'))\n",
    "    full_field = numerator / y_ssr * xssrinv\n",
    "    \n",
    "    sum_dims = tuple(x for x in xssrinv.dims if x != dim)\n",
    "    #quantile = full_field.quantile([.2, .5, .8], dim=sum_dims, method='inverted_cdf').expand_dims({'shift':[n_shift]})\n",
    "    #return quantile\n",
    "    avg = full_field.mean(sum_dims).expand_dims({'shifty':[n_shift]})\n",
    "    std = full_field.std(sum_dims).expand_dims({'shifty':[n_shift]})\n",
    "    return avg, std"
   ]
  },
  {
   "cell_type": "code",
   "execution_count": 59,
   "metadata": {
    "scrolled": true
   },
   "outputs": [],
   "source": [
    "# Compute approximate correlation\n",
    "outer = {'ix':slice(40,120), 'iy':slice(200,45)}\n",
    "inner = {'ix':slice(60,100), 'iy':slice(160,80)}\n",
    "\n",
    "cdsd = {}\n",
    "for n_range, xds in dsd.items():\n",
    "    cc = calc_correlation_field(xds['ginv_norm'].sel(outer),\n",
    "                                           mask=grid['maskC'].sel(outer),\n",
    "                                           sample_mean=xds['smooth3Dmean001'].sel(outer),\n",
    "                                           dimlist=('ix','iy','k'),\n",
    "                                           n_shift=2*xi*n_range,\n",
    "                                           selection=inner)\n",
    "\n",
    "    # Compute prediction\n",
    "    mf = MaternField(grid['maskC'], n_range=n_range, horizontal_factor=xi)\n",
    "    cc['delta_khat'] = np.abs(cc['shifty'])\n",
    "    cc['ideal_corr_k'] = mf.ideal_correlation(distance=cc['delta_khat'])\n",
    "    cdsd[n_range] = cc"
   ]
  },
  {
   "cell_type": "code",
   "execution_count": null,
   "metadata": {},
   "outputs": [],
   "source": []
  },
  {
   "cell_type": "code",
   "execution_count": null,
   "metadata": {},
   "outputs": [],
   "source": []
  },
  {
   "cell_type": "code",
   "execution_count": 63,
   "metadata": {},
   "outputs": [
    {
     "data": {
      "image/png": "[encoded data removed]",
      "text/plain": [
       "<Figure size 1296x360 with 3 Axes>"
      ]
     },
     "metadata": {},
     "output_type": "display_data"
    }
   ],
   "source": [
    "kk = 25\n",
    "ix = 80\n",
    "iy = 120\n",
    "\n",
    "ncols = 3\n",
    "nrows = 1\n",
    "\n",
    "fig,axs = plt.subplots(nrows,ncols,figsize=(18,5*nrows),\n",
    "                       sharey=True)\n",
    "\n",
    "for n_range, xds in cdsd.items():\n",
    "    \n",
    "    for dim, dsel, ax in zip(['ix','iy','k'], [ix,iy,kk], axs):\n",
    "        \n",
    "        theory_label = r'$r\\,(\\hat{\\rho},||\\hat{x}_1-\\hat{x}_2||)$' if n_range == 5 and dim == 'ix' else None\n",
    "        exp_label=r'$\\hat{\\rho}$ = %d' % n_range if dim == 'ix' else None\n",
    "        \n",
    "        # for simplicity, just showing positive, but it's the same either way...\n",
    "        condition = xds['shifty'] >= 0\n",
    "        if dim == 'k':\n",
    "            condition = condition & (x<25)\n",
    "            \n",
    "        x = xds[f'delta_khat'].where(condition)\n",
    "        theory = xds[f'ideal_corr_k'].where(condition)\n",
    "        yavg = xds[f\"corr_{dim}_avg\"].sel({dim:dsel}).where(condition)\n",
    "        ystd = xds[f\"corr_{dim}_std\"].sel({dim:dsel}).where(condition)\n",
    "        \n",
    "        ax.plot(x, theory, label=theory_label, color='black')\n",
    "        ax.fill_between(x,yavg-ystd, yavg+ystd,\n",
    "                        alpha=.3,\n",
    "                        label=exp_label)\n",
    "\n",
    "        lbl = dim[-1]\n",
    "        lbl = 'z' if lbl == 'k' else lbl\n",
    "        ax.axhline(y=0.14, color='gray', alpha=.2)\n",
    "        ax.set(xlabel=r'$\\delta\\hat{%s}$' % lbl,ylabel='',title='')\n",
    "        \n",
    "axs[0].set_ylabel('Correlation')\n",
    "\n",
    "fig.subplots_adjust(wspace=.075)\n",
    "fig.legend(ncol=5,\n",
    "           loc='center',\n",
    "           bbox_to_anchor=(.5,-0.075),\n",
    "           frameon=False)\n",
    "fig.savefig(f'{fig_dir}/matern_llc90_correlation-k{kk}-iy{iy}-ix{ix}-{len(grid.sample)}samples.pdf',bbox_inches='tight')"
   ]
  },
  {
   "cell_type": "code",
   "execution_count": null,
   "metadata": {},
   "outputs": [],
   "source": []
  },
  {
   "cell_type": "code",
   "execution_count": null,
   "metadata": {},
   "outputs": [],
   "source": []
  },
  {
   "cell_type": "markdown",
   "metadata": {},
   "source": [
    "### A note about the inaccuracy/locality of Jacobians... \n",
    "Here I'm truly considering the distance to be the number of neighboring grid cells.\n",
    "I went through the whole process of using the Jacobian to approximate distances in ideal space, but this is\n",
    "not really accurate.\n",
    "Really we want the comparison to be in \"grid cell space\", and that's what we get.\n",
    "I would consider grid cell space to be:\n",
    "$$\\varphi(\\mathbf{x}_1) - \\varphi(\\mathbf{x}_2)$$\n",
    "and\n",
    "$$\\Phi|_{\\mathbf{x}_{1}} (\\mathbf{x}_1 - \\mathbf{x}_2)$$\n",
    "is not a good approximation of this for distances that matter.\n",
    "Even 3-5 grid cells away it starts to be a pretty bad approximation"
   ]
  },
  {
   "cell_type": "code",
   "execution_count": null,
   "metadata": {},
   "outputs": [],
   "source": []
  },
  {
   "cell_type": "markdown",
   "metadata": {},
   "source": [
    "### Some functions used when not using xarray\n",
    "\n",
    "But it turns out to be better using xarray since using `dask.array.roll` incurs eager operations, and \n",
    "writing a shift operator didn't seem to be as efficient"
   ]
  },
  {
   "cell_type": "code",
   "execution_count": null,
   "metadata": {},
   "outputs": [],
   "source": []
  },
  {
   "cell_type": "code",
   "execution_count": null,
   "metadata": {},
   "outputs": [],
   "source": [
    "def _calc_shifted(xdev, xssrinv, n_shift, axis):\n",
    "    \n",
    "    y_deviation = darray.apply_along_axis(_shift, axis=axis, arr=xdev, n_shift=n_shift)\n",
    "    numerator = darray.nansum(xdev*y_deviation, axis=0)\n",
    "    y_ssr = np.sqrt( darray.nansum(y_deviation**2, axis=0))\n",
    "    full_field = numerator / y_ssr * xssrinv\n",
    "    \n",
    "    sum_dims = tuple(x for x in range(xdev.ndim-1) if x != axis-1)\n",
    "    avg = darray.nanmean(full_field, axis=sum_dims)\n",
    "    std = darray.nanstd(full_field, axis=sum_dims)\n",
    "    return avg, std\n",
    "\n",
    "def _shift(array, n_shift, fill_value=np.nan):\n",
    "    \n",
    "    if n_shift>0:\n",
    "        result = darray.full_like(array, np.nan, dtype=array.dtype)\n",
    "        result[slice(n_shift, None)] = array[slice(None,-n_shift)].copy()\n",
    "    elif n_shift<0:\n",
    "        result = darray.full_like(array, np.nan, dtype=array.dtype)\n",
    "        result[slice(None, -n_shift)] = array[slice(n_shift,None)]\n",
    "    else:\n",
    "        result = array.copy()\n",
    "    return result\n",
    "\n",
    "def _print(name, array):\n",
    "    print(f\"{name}\")\n",
    "    print(f\"\\t{array.shape}\")\n",
    "    print(f\"\\t{array.chunksize}\")\n",
    "    print()\n",
    "    return"
   ]
  }
 ],
 "metadata": {
  "kernelspec": {
   "display_name": "phd",
   "language": "python",
   "name": "phd"
  },
  "language_info": {
   "codemirror_mode": {
    "name": "ipython",
    "version": 3
   },
   "file_extension": ".py",
   "mimetype": "text/x-python",
   "name": "python",
   "nbconvert_exporter": "python",
   "pygments_lexer": "ipython3",
   "version": "3.9.12"
  }
 },
 "nbformat": 4,
 "nbformat_minor": 4
}
