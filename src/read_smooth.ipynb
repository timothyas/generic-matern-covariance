{
 "cells": [
  {
   "cell_type": "code",
   "execution_count": 2,
   "metadata": {},
   "outputs": [],
   "source": [
    "import numpy as np\n",
    "import matplotlib.pyplot as plt\n",
    "import xarray as xr\n",
    "\n",
    "from xmitgcm import open_mdsdataset\n",
    "\n",
    "import pych\n",
    "import pych.ecco as pe\n",
    "\n",
    "from smooth_store import open_smoothdataset"
   ]
  },
  {
   "cell_type": "code",
   "execution_count": 3,
   "metadata": {},
   "outputs": [],
   "source": [
    "from new_smooth_store import open_smoothdataset\n",
    "#import os\n",
    "#from smooth_store import get_smooth_vars\n",
    "#import xmitgcm\n",
    "#def open_smoothdataset(run_dir,\n",
    "#                       read_filternorm=False,\n",
    "#                       **kwargs):\n",
    "#    \"\"\"\n",
    "#    TODO:\n",
    "#        - read_filternorm necessary for OIDriver still?\n",
    "#        - split up different operators, remove number from variable name (add as dimension)\n",
    "#        - add 2D variables... etc\n",
    "#    \"\"\"\n",
    "#\n",
    "#    # get all smooth*.data prefixes, then their operator numbers\n",
    "#    prefixes = [x for x in os.listdir(run_dir) if 'smooth' in x and '.data' in x]\n",
    "#    numbers = [x.split('.')[0][-3:] for x in prefixes]\n",
    "#\n",
    "#    # Right now operators will be a list of strings, since going to want string not int anyway...\n",
    "#    operators = []\n",
    "#    for x in numbers:\n",
    "#        if x not in operators:\n",
    "#            operators.append(x)\n",
    "#\n",
    "#    extras = [get_smooth_vars(op) for op in operators]\n",
    "#    custom_grid_variables = {}\n",
    "#    extra_variables = {}\n",
    "#\n",
    "#    # Have to loop to get fields for each operator\n",
    "#    for grid_extras, var_extras in extras:\n",
    "#        custom_grid_variables.update(grid_extras)\n",
    "#        extra_variables.update(var_extras)\n",
    "#        \n",
    "#    xds = xmitgcm.open_mdsdataset(run_dir, custom_grid_variables=custom_grid_variables, extra_variables=extra_variables, **kwargs)\n",
    "#\n",
    "#    # Move all smooth variables to data_vars status\n",
    "#    smoothvars = [vname for vname in xds.coords if 'smooth' in vname]\n",
    "#    xds = xds.reset_coords(smoothvars)\n",
    "#    \n",
    "#    # These get read in with a \"time\" dimension, make this \"sample\" \n",
    "#    xds['sample'] = xr.DataArray(np.arange(len(xds['time'])), coords=xds['time'].coords, dims=xds['time'].dims)\n",
    "#    \n",
    "#    xds = xds.set_coords('sample').swap_dims({'time':'sample'})\n",
    "#    xds = xds.drop(['time','iter'])\n",
    "#    return xds"
   ]
  },
  {
   "cell_type": "code",
   "execution_count": 5,
   "metadata": {},
   "outputs": [
    {
     "name": "stderr",
     "output_type": "stream",
     "text": [
      "/home/tsmith/xmitgcm/xmitgcm/mds_store.py:922: UserWarning: Couldn't find available_diagnostics.log in /scratch2/tsmith/generic-matern-covariance/sampling/llc90/testwrite-3D-C/run.10dx.01xi/ or /scratch2/tsmith/generic-matern-covariance/sampling/llc90/testwrite-3D-C/run.10dx.01xi/. Using default version.\n",
      "  warnings.warn(\"Couldn't find available_diagnostics.log \"\n"
     ]
    }
   ],
   "source": [
    "run_dir='/scratch2/tsmith/generic-matern-covariance/sampling/llc90/testwrite-3D-C/run.10dx.01xi/'\n",
    "#grid_dir='/scratch2/tsmith/generic-matern-covariance/sampling/llc90/grid'\n",
    "ds = open_mdsdataset(run_dir,\n",
    "                     iters=None,\n",
    "                     geometry='llc')"
   ]
  },
  {
   "cell_type": "code",
   "execution_count": 10,
   "metadata": {},
   "outputs": [
    {
     "name": "stderr",
     "output_type": "stream",
     "text": [
      "/home/tsmith/xmitgcm/xmitgcm/mds_store.py:922: UserWarning: Couldn't find available_diagnostics.log in /scratch2/tsmith/generic-matern-covariance/sampling/llc90/testwrite-3D-C/run.10dx.01xi/ or /scratch2/tsmith/generic-matern-covariance/sampling/llc90/testwrite-3D-C/run.10dx.01xi/. Using default version.\n",
      "  warnings.warn(\"Couldn't find available_diagnostics.log \"\n"
     ]
    }
   ],
   "source": [
    "ds =open_smoothdataset(run_dir, prefix='smooth3Dfld001', geometry='llc', llc_method='bigchunks')"
   ]
  },
  {
   "cell_type": "code",
   "execution_count": null,
   "metadata": {},
   "outputs": [],
   "source": [
    "ds.ginv_norm.load()"
   ]
  },
  {
   "cell_type": "code",
   "execution_count": null,
   "metadata": {},
   "outputs": [],
   "source": [
    "ds.ginv_norm"
   ]
  },
  {
   "cell_type": "code",
   "execution_count": null,
   "metadata": {},
   "outputs": [],
   "source": []
  }
 ],
 "metadata": {
  "kernelspec": {
   "display_name": "phd",
   "language": "python",
   "name": "phd"
  },
  "language_info": {
   "codemirror_mode": {
    "name": "ipython",
    "version": 3
   },
   "file_extension": ".py",
   "mimetype": "text/x-python",
   "name": "python",
   "nbconvert_exporter": "python",
   "pygments_lexer": "ipython3",
   "version": "3.9.10"
  }
 },
 "nbformat": 4,
 "nbformat_minor": 4
}
